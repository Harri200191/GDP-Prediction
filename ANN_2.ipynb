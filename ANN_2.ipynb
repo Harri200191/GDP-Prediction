{
 "cells": [
  {
   "cell_type": "code",
   "execution_count": 40,
   "metadata": {},
   "outputs": [],
   "source": [
    "import tensorflow as tf\n",
    "import pandas as pd\n",
    "import numpy as np\n",
    "from sklearn.preprocessing import StandardScaler\n",
    "import matplotlib.pyplot as plt\n",
    "import seaborn as sns\n",
    "\n",
    "sns.set()"
   ]
  },
  {
   "cell_type": "code",
   "execution_count": 36,
   "metadata": {},
   "outputs": [],
   "source": [
    "def plot_series(time, series, format=\"-\", start=0, end=None):\n",
    "    \n",
    "    plt.figure(figsize=(10, 6))\n",
    "\n",
    "    if type(series) is tuple:\n",
    "\n",
    "      for series_num in series:\n",
    "        plt.plot(time[start:end], series_num[start:end], format)\n",
    "\n",
    "    else:\n",
    "      plt.plot(time[start:end], series[start:end], format)\n",
    "\n",
    "    plt.xlabel(\"Time\")\n",
    "    plt.ylabel(\"Value\")\n",
    "    plt.grid(True)\n",
    "    plt.show()\n",
    "\n",
    "\n",
    "def extract_last_4_chars(value):\n",
    "    return value[-4:]\n",
    "\n",
    "\n",
    "def windowed_dataset(series, window_size, batch_size, shuffle_buffer):\n",
    "\n",
    "    # Generate a TF Dataset from the series values\n",
    "    dataset = tf.data.Dataset.from_tensor_slices(series)\n",
    "\n",
    "    # Window the data but only take those with the specified size\n",
    "    dataset = dataset.window(window_size + 1, shift=1, drop_remainder=True)\n",
    "\n",
    "    # Flatten the windows by putting its elements in a single batch\n",
    "    dataset = dataset.flat_map(lambda window: window.batch(window_size + 1))\n",
    "\n",
    "    # Create tuples with features and labels\n",
    "    dataset = dataset.map(lambda window: (window[:-1], window[-1]))\n",
    "\n",
    "    # Shuffle the windows\n",
    "    dataset = dataset.shuffle(shuffle_buffer)\n",
    "\n",
    "    # Create batches of windows\n",
    "    dataset = dataset.batch(batch_size).prefetch(1)\n",
    "\n",
    "    return dataset"
   ]
  },
  {
   "cell_type": "code",
   "execution_count": 2,
   "metadata": {},
   "outputs": [
    {
     "data": {
      "text/html": [
       "<div>\n",
       "<style scoped>\n",
       "    .dataframe tbody tr th:only-of-type {\n",
       "        vertical-align: middle;\n",
       "    }\n",
       "\n",
       "    .dataframe tbody tr th {\n",
       "        vertical-align: top;\n",
       "    }\n",
       "\n",
       "    .dataframe thead th {\n",
       "        text-align: right;\n",
       "    }\n",
       "</style>\n",
       "<table border=\"1\" class=\"dataframe\">\n",
       "  <thead>\n",
       "    <tr style=\"text-align: right;\">\n",
       "      <th></th>\n",
       "      <th>date</th>\n",
       "      <th>GDP</th>\n",
       "      <th>Per Capita</th>\n",
       "      <th>Growthannualchange</th>\n",
       "    </tr>\n",
       "  </thead>\n",
       "  <tbody>\n",
       "    <tr>\n",
       "      <th>0</th>\n",
       "      <td>31/12/1960</td>\n",
       "      <td>3.749265</td>\n",
       "      <td>81.5869</td>\n",
       "      <td>NaN</td>\n",
       "    </tr>\n",
       "    <tr>\n",
       "      <th>1</th>\n",
       "      <td>31/12/1961</td>\n",
       "      <td>4.118648</td>\n",
       "      <td>87.5174</td>\n",
       "      <td>5.9873</td>\n",
       "    </tr>\n",
       "    <tr>\n",
       "      <th>2</th>\n",
       "      <td>31/12/1962</td>\n",
       "      <td>4.310164</td>\n",
       "      <td>89.4933</td>\n",
       "      <td>4.4829</td>\n",
       "    </tr>\n",
       "    <tr>\n",
       "      <th>3</th>\n",
       "      <td>31/12/1963</td>\n",
       "      <td>4.630827</td>\n",
       "      <td>93.8839</td>\n",
       "      <td>8.6888</td>\n",
       "    </tr>\n",
       "    <tr>\n",
       "      <th>4</th>\n",
       "      <td>31/12/1964</td>\n",
       "      <td>5.204956</td>\n",
       "      <td>102.9612</td>\n",
       "      <td>7.5698</td>\n",
       "    </tr>\n",
       "  </tbody>\n",
       "</table>\n",
       "</div>"
      ],
      "text/plain": [
       "         date       GDP   Per Capita   Growthannualchange\n",
       "0  31/12/1960  3.749265      81.5869                  NaN\n",
       "1  31/12/1961  4.118648      87.5174               5.9873\n",
       "2  31/12/1962  4.310164      89.4933               4.4829\n",
       "3  31/12/1963  4.630827      93.8839               8.6888\n",
       "4  31/12/1964  5.204956     102.9612               7.5698"
      ]
     },
     "execution_count": 2,
     "metadata": {},
     "output_type": "execute_result"
    }
   ],
   "source": [
    "data = pd.read_csv(\"GDP_Dataset.csv\")\n",
    "data.head()"
   ]
  },
  {
   "cell_type": "code",
   "execution_count": 5,
   "metadata": {},
   "outputs": [
    {
     "data": {
      "text/plain": [
       "5.059570967741935"
      ]
     },
     "execution_count": 5,
     "metadata": {},
     "output_type": "execute_result"
    }
   ],
   "source": [
    "mean_val = data[' Growthannualchange'].mean()\n",
    "mean_val"
   ]
  },
  {
   "cell_type": "code",
   "execution_count": 6,
   "metadata": {},
   "outputs": [
    {
     "data": {
      "text/html": [
       "<div>\n",
       "<style scoped>\n",
       "    .dataframe tbody tr th:only-of-type {\n",
       "        vertical-align: middle;\n",
       "    }\n",
       "\n",
       "    .dataframe tbody tr th {\n",
       "        vertical-align: top;\n",
       "    }\n",
       "\n",
       "    .dataframe thead th {\n",
       "        text-align: right;\n",
       "    }\n",
       "</style>\n",
       "<table border=\"1\" class=\"dataframe\">\n",
       "  <thead>\n",
       "    <tr style=\"text-align: right;\">\n",
       "      <th></th>\n",
       "      <th>date</th>\n",
       "      <th>GDP</th>\n",
       "      <th>Per Capita</th>\n",
       "      <th>Growthannualchange</th>\n",
       "    </tr>\n",
       "  </thead>\n",
       "  <tbody>\n",
       "    <tr>\n",
       "      <th>0</th>\n",
       "      <td>31/12/1960</td>\n",
       "      <td>3.749265</td>\n",
       "      <td>81.5869</td>\n",
       "      <td>5.059571</td>\n",
       "    </tr>\n",
       "    <tr>\n",
       "      <th>1</th>\n",
       "      <td>31/12/1961</td>\n",
       "      <td>4.118648</td>\n",
       "      <td>87.5174</td>\n",
       "      <td>5.987300</td>\n",
       "    </tr>\n",
       "    <tr>\n",
       "      <th>2</th>\n",
       "      <td>31/12/1962</td>\n",
       "      <td>4.310164</td>\n",
       "      <td>89.4933</td>\n",
       "      <td>4.482900</td>\n",
       "    </tr>\n",
       "    <tr>\n",
       "      <th>3</th>\n",
       "      <td>31/12/1963</td>\n",
       "      <td>4.630827</td>\n",
       "      <td>93.8839</td>\n",
       "      <td>8.688800</td>\n",
       "    </tr>\n",
       "    <tr>\n",
       "      <th>4</th>\n",
       "      <td>31/12/1964</td>\n",
       "      <td>5.204956</td>\n",
       "      <td>102.9612</td>\n",
       "      <td>7.569800</td>\n",
       "    </tr>\n",
       "  </tbody>\n",
       "</table>\n",
       "</div>"
      ],
      "text/plain": [
       "         date       GDP   Per Capita   Growthannualchange\n",
       "0  31/12/1960  3.749265      81.5869             5.059571\n",
       "1  31/12/1961  4.118648      87.5174             5.987300\n",
       "2  31/12/1962  4.310164      89.4933             4.482900\n",
       "3  31/12/1963  4.630827      93.8839             8.688800\n",
       "4  31/12/1964  5.204956     102.9612             7.569800"
      ]
     },
     "execution_count": 6,
     "metadata": {},
     "output_type": "execute_result"
    }
   ],
   "source": [
    "data[' Growthannualchange'].fillna(mean_val, inplace=True)\n",
    "data.head()"
   ]
  },
  {
   "cell_type": "code",
   "execution_count": 8,
   "metadata": {},
   "outputs": [
    {
     "name": "stderr",
     "output_type": "stream",
     "text": [
      "C:\\Users\\haris\\AppData\\Local\\Temp\\ipykernel_30044\\90571183.py:1: UserWarning: Parsing dates in %d/%m/%Y format when dayfirst=False (the default) was specified. Pass `dayfirst=True` or specify a format to silence this warning.\n",
      "  train_dates = pd.to_datetime(data[\"date\"])\n"
     ]
    }
   ],
   "source": [
    "train_dates = pd.to_datetime(data[\"date\"])"
   ]
  },
  {
   "cell_type": "code",
   "execution_count": 10,
   "metadata": {},
   "outputs": [],
   "source": [
    "cols = list(data)[1:4]"
   ]
  },
  {
   "cell_type": "code",
   "execution_count": 12,
   "metadata": {},
   "outputs": [],
   "source": [
    "df_for_training = data[cols].astype(float)"
   ]
  },
  {
   "cell_type": "code",
   "execution_count": 13,
   "metadata": {},
   "outputs": [],
   "source": [
    "scaler = StandardScaler()\n",
    "scaler = scaler.fit(df_for_training)\n",
    "df_for_training_scaled = scaler.transform(df_for_training)"
   ]
  },
  {
   "cell_type": "code",
   "execution_count": 24,
   "metadata": {},
   "outputs": [],
   "source": [
    "trainx = []\n",
    "trainy = []\n",
    "\n",
    "n_futures = 1\n",
    "n_past = 9\n",
    "\n",
    "for i in range (n_past, len(df_for_training_scaled) - n_futures + 1):\n",
    "    trainx.append(df_for_training_scaled [i - n_past:i, 0:df_for_training.shape[1]]) \n",
    "    trainy.append(df_for_training_scaled [i+ n_futures - 1: i + n_futures, 0])"
   ]
  },
  {
   "cell_type": "code",
   "execution_count": 28,
   "metadata": {},
   "outputs": [],
   "source": [
    "trainx = np.array(trainx)\n",
    "trainy = np.array(trainy)"
   ]
  },
  {
   "cell_type": "code",
   "execution_count": 30,
   "metadata": {},
   "outputs": [
    {
     "name": "stdout",
     "output_type": "stream",
     "text": [
      "WARNING:tensorflow:Layer lstm_2 will not use cuDNN kernels since it doesn't meet the criteria. It will use a generic GPU kernel as fallback when running on GPU.\n",
      "WARNING:tensorflow:Layer lstm_3 will not use cuDNN kernels since it doesn't meet the criteria. It will use a generic GPU kernel as fallback when running on GPU.\n",
      "Model: \"sequential_2\"\n",
      "_________________________________________________________________\n",
      " Layer (type)                Output Shape              Param #   \n",
      "=================================================================\n",
      " lstm_2 (LSTM)               (None, 9, 64)             17408     \n",
      "                                                                 \n",
      " lstm_3 (LSTM)               (None, 32)                12416     \n",
      "                                                                 \n",
      " dropout_1 (Dropout)         (None, 32)                0         \n",
      "                                                                 \n",
      " dense_1 (Dense)             (None, 1)                 33        \n",
      "                                                                 \n",
      "=================================================================\n",
      "Total params: 29,857\n",
      "Trainable params: 29,857\n",
      "Non-trainable params: 0\n",
      "_________________________________________________________________\n"
     ]
    }
   ],
   "source": [
    "model = tf.keras.Sequential([\n",
    "    tf.keras.layers.LSTM(64, activation= 'relu', input_shape=(trainx.shape[1], trainx.shape[2]), return_sequences= True),\n",
    "    tf.keras.layers.LSTM(32, activation= 'relu', return_sequences=False),\n",
    "    tf.keras.layers.Dropout(0.2),\n",
    "    tf.keras.layers.Dense (trainy.shape[1])\n",
    "])\n",
    "\n",
    "model.compile(optimizer='adam', \n",
    "              loss='mse', \n",
    "              metrics= 'accuracy')\n",
    " \n",
    "model.summary()"
   ]
  },
  {
   "cell_type": "code",
   "execution_count": 34,
   "metadata": {},
   "outputs": [
    {
     "name": "stdout",
     "output_type": "stream",
     "text": [
      "Epoch 1/50\n",
      "3/3 [==============================] - 0s 54ms/step - loss: 0.1438 - accuracy: 0.0000e+00 - val_loss: 0.5595 - val_accuracy: 0.0000e+00\n",
      "Epoch 2/50\n",
      "3/3 [==============================] - 0s 41ms/step - loss: 0.0907 - accuracy: 0.0000e+00 - val_loss: 0.5994 - val_accuracy: 0.0000e+00\n",
      "Epoch 3/50\n",
      "3/3 [==============================] - 0s 38ms/step - loss: 0.0609 - accuracy: 0.0000e+00 - val_loss: 7.2801 - val_accuracy: 0.0000e+00\n",
      "Epoch 4/50\n",
      "3/3 [==============================] - 0s 32ms/step - loss: 0.0550 - accuracy: 0.0000e+00 - val_loss: 17.8458 - val_accuracy: 0.0000e+00\n",
      "Epoch 5/50\n",
      "3/3 [==============================] - 0s 34ms/step - loss: 0.1421 - accuracy: 0.0000e+00 - val_loss: 7.0149 - val_accuracy: 0.0000e+00\n",
      "Epoch 6/50\n",
      "3/3 [==============================] - 0s 36ms/step - loss: 0.0674 - accuracy: 0.0000e+00 - val_loss: 1.8428 - val_accuracy: 0.0000e+00\n",
      "Epoch 7/50\n",
      "3/3 [==============================] - 0s 32ms/step - loss: 0.0595 - accuracy: 0.0000e+00 - val_loss: 0.9049 - val_accuracy: 0.0000e+00\n",
      "Epoch 8/50\n",
      "3/3 [==============================] - 0s 37ms/step - loss: 0.0567 - accuracy: 0.0000e+00 - val_loss: 0.7839 - val_accuracy: 0.0000e+00\n",
      "Epoch 9/50\n",
      "3/3 [==============================] - 0s 37ms/step - loss: 0.0409 - accuracy: 0.0000e+00 - val_loss: 1.0395 - val_accuracy: 0.0000e+00\n",
      "Epoch 10/50\n",
      "3/3 [==============================] - 0s 33ms/step - loss: 0.0556 - accuracy: 0.0000e+00 - val_loss: 1.8853 - val_accuracy: 0.0000e+00\n",
      "Epoch 11/50\n",
      "3/3 [==============================] - 0s 39ms/step - loss: 0.0348 - accuracy: 0.0000e+00 - val_loss: 3.3813 - val_accuracy: 0.0000e+00\n",
      "Epoch 12/50\n",
      "3/3 [==============================] - 0s 37ms/step - loss: 0.0473 - accuracy: 0.0000e+00 - val_loss: 7.8127 - val_accuracy: 0.0000e+00\n",
      "Epoch 13/50\n",
      "3/3 [==============================] - 0s 35ms/step - loss: 0.0795 - accuracy: 0.0000e+00 - val_loss: 10.6859 - val_accuracy: 0.0000e+00\n",
      "Epoch 14/50\n",
      "3/3 [==============================] - 0s 36ms/step - loss: 0.0519 - accuracy: 0.0000e+00 - val_loss: 6.3551 - val_accuracy: 0.0000e+00\n",
      "Epoch 15/50\n",
      "3/3 [==============================] - 0s 37ms/step - loss: 0.0384 - accuracy: 0.0000e+00 - val_loss: 3.5942 - val_accuracy: 0.0000e+00\n",
      "Epoch 16/50\n",
      "3/3 [==============================] - 0s 37ms/step - loss: 0.0409 - accuracy: 0.0000e+00 - val_loss: 1.9806 - val_accuracy: 0.0000e+00\n",
      "Epoch 17/50\n",
      "3/3 [==============================] - 0s 32ms/step - loss: 0.0258 - accuracy: 0.0000e+00 - val_loss: 1.0960 - val_accuracy: 0.0000e+00\n",
      "Epoch 18/50\n",
      "3/3 [==============================] - 0s 33ms/step - loss: 0.0427 - accuracy: 0.0000e+00 - val_loss: 0.8203 - val_accuracy: 0.0000e+00\n",
      "Epoch 19/50\n",
      "3/3 [==============================] - 0s 35ms/step - loss: 0.0718 - accuracy: 0.0000e+00 - val_loss: 1.0632 - val_accuracy: 0.0000e+00\n",
      "Epoch 20/50\n",
      "3/3 [==============================] - 0s 38ms/step - loss: 0.0199 - accuracy: 0.0000e+00 - val_loss: 1.6087 - val_accuracy: 0.0000e+00\n",
      "Epoch 21/50\n",
      "3/3 [==============================] - 0s 33ms/step - loss: 0.0230 - accuracy: 0.0000e+00 - val_loss: 2.3066 - val_accuracy: 0.0000e+00\n",
      "Epoch 22/50\n",
      "3/3 [==============================] - 0s 32ms/step - loss: 0.0136 - accuracy: 0.0000e+00 - val_loss: 3.1771 - val_accuracy: 0.0000e+00\n",
      "Epoch 23/50\n",
      "3/3 [==============================] - 0s 36ms/step - loss: 0.0214 - accuracy: 0.0000e+00 - val_loss: 3.8527 - val_accuracy: 0.0000e+00\n",
      "Epoch 24/50\n",
      "3/3 [==============================] - 0s 34ms/step - loss: 0.0231 - accuracy: 0.0000e+00 - val_loss: 4.0923 - val_accuracy: 0.0000e+00\n",
      "Epoch 25/50\n",
      "3/3 [==============================] - 0s 32ms/step - loss: 0.0190 - accuracy: 0.0000e+00 - val_loss: 4.1436 - val_accuracy: 0.0000e+00\n",
      "Epoch 26/50\n",
      "3/3 [==============================] - 0s 32ms/step - loss: 0.0198 - accuracy: 0.0000e+00 - val_loss: 3.5267 - val_accuracy: 0.0000e+00\n",
      "Epoch 27/50\n",
      "3/3 [==============================] - 0s 35ms/step - loss: 0.0245 - accuracy: 0.0000e+00 - val_loss: 2.1847 - val_accuracy: 0.0000e+00\n",
      "Epoch 28/50\n",
      "3/3 [==============================] - 0s 34ms/step - loss: 0.0180 - accuracy: 0.0000e+00 - val_loss: 1.4923 - val_accuracy: 0.0000e+00\n",
      "Epoch 29/50\n",
      "3/3 [==============================] - 0s 32ms/step - loss: 0.0193 - accuracy: 0.0000e+00 - val_loss: 1.2965 - val_accuracy: 0.0000e+00\n",
      "Epoch 30/50\n",
      "3/3 [==============================] - 0s 36ms/step - loss: 0.0245 - accuracy: 0.0000e+00 - val_loss: 1.5612 - val_accuracy: 0.0000e+00\n",
      "Epoch 31/50\n",
      "3/3 [==============================] - 0s 33ms/step - loss: 0.0162 - accuracy: 0.0000e+00 - val_loss: 1.7491 - val_accuracy: 0.0000e+00\n",
      "Epoch 32/50\n",
      "3/3 [==============================] - 0s 36ms/step - loss: 0.0302 - accuracy: 0.0000e+00 - val_loss: 1.9629 - val_accuracy: 0.0000e+00\n",
      "Epoch 33/50\n",
      "3/3 [==============================] - 0s 32ms/step - loss: 0.0394 - accuracy: 0.0000e+00 - val_loss: 2.0566 - val_accuracy: 0.0000e+00\n",
      "Epoch 34/50\n",
      "3/3 [==============================] - 0s 32ms/step - loss: 0.0200 - accuracy: 0.0000e+00 - val_loss: 2.2482 - val_accuracy: 0.0000e+00\n",
      "Epoch 35/50\n",
      "3/3 [==============================] - 0s 32ms/step - loss: 0.0162 - accuracy: 0.0000e+00 - val_loss: 2.5464 - val_accuracy: 0.0000e+00\n",
      "Epoch 36/50\n",
      "3/3 [==============================] - 0s 32ms/step - loss: 0.0118 - accuracy: 0.0000e+00 - val_loss: 2.4716 - val_accuracy: 0.0000e+00\n",
      "Epoch 37/50\n",
      "3/3 [==============================] - 0s 32ms/step - loss: 0.0084 - accuracy: 0.0000e+00 - val_loss: 2.7412 - val_accuracy: 0.0000e+00\n",
      "Epoch 38/50\n",
      "3/3 [==============================] - 0s 32ms/step - loss: 0.0295 - accuracy: 0.0000e+00 - val_loss: 3.4949 - val_accuracy: 0.0000e+00\n",
      "Epoch 39/50\n",
      "3/3 [==============================] - 0s 32ms/step - loss: 0.0188 - accuracy: 0.0000e+00 - val_loss: 3.9590 - val_accuracy: 0.0000e+00\n",
      "Epoch 40/50\n",
      "3/3 [==============================] - 0s 32ms/step - loss: 0.0142 - accuracy: 0.0000e+00 - val_loss: 3.9515 - val_accuracy: 0.0000e+00\n",
      "Epoch 41/50\n",
      "3/3 [==============================] - 0s 32ms/step - loss: 0.0212 - accuracy: 0.0000e+00 - val_loss: 4.6781 - val_accuracy: 0.0000e+00\n",
      "Epoch 42/50\n",
      "3/3 [==============================] - 0s 37ms/step - loss: 0.0135 - accuracy: 0.0000e+00 - val_loss: 4.6210 - val_accuracy: 0.0000e+00\n",
      "Epoch 43/50\n",
      "3/3 [==============================] - 0s 36ms/step - loss: 0.0140 - accuracy: 0.0000e+00 - val_loss: 3.6168 - val_accuracy: 0.0000e+00\n",
      "Epoch 44/50\n",
      "3/3 [==============================] - 0s 32ms/step - loss: 0.0154 - accuracy: 0.0000e+00 - val_loss: 2.0811 - val_accuracy: 0.0000e+00\n",
      "Epoch 45/50\n",
      "3/3 [==============================] - 0s 32ms/step - loss: 0.0258 - accuracy: 0.0000e+00 - val_loss: 1.7540 - val_accuracy: 0.0000e+00\n",
      "Epoch 46/50\n",
      "3/3 [==============================] - 0s 32ms/step - loss: 0.0146 - accuracy: 0.0000e+00 - val_loss: 1.6217 - val_accuracy: 0.0000e+00\n",
      "Epoch 47/50\n",
      "3/3 [==============================] - 0s 32ms/step - loss: 0.0079 - accuracy: 0.0000e+00 - val_loss: 1.8326 - val_accuracy: 0.0000e+00\n",
      "Epoch 48/50\n",
      "3/3 [==============================] - 0s 29ms/step - loss: 0.0162 - accuracy: 0.0000e+00 - val_loss: 2.3266 - val_accuracy: 0.0000e+00\n",
      "Epoch 49/50\n",
      "3/3 [==============================] - 0s 29ms/step - loss: 0.0121 - accuracy: 0.0000e+00 - val_loss: 2.8315 - val_accuracy: 0.0000e+00\n",
      "Epoch 50/50\n",
      "3/3 [==============================] - 0s 32ms/step - loss: 0.0189 - accuracy: 0.0000e+00 - val_loss: 2.5978 - val_accuracy: 0.0000e+00\n"
     ]
    }
   ],
   "source": [
    "history = model.fit(trainx, trainy, epochs= 50, batch_size= 16, validation_split=0.1)"
   ]
  },
  {
   "cell_type": "code",
   "execution_count": 38,
   "metadata": {},
   "outputs": [
    {
     "data": {
      "text/plain": [
       "<matplotlib.legend.Legend at 0x22ddacc32e0>"
      ]
     },
     "execution_count": 38,
     "metadata": {},
     "output_type": "execute_result"
    },
    {
     "data": {
      "image/png": "[encoded data removed]",
      "text/plain": [
       "<Figure size 640x480 with 1 Axes>"
      ]
     },
     "metadata": {},
     "output_type": "display_data"
    }
   ],
   "source": [
    "plt.plot(history.history['loss'], label='Training loss')\n",
    "plt.plot(history.history['val_loss'], label='Validation loss')\n",
    "plt.legend()"
   ]
  },
  {
   "cell_type": "code",
   "execution_count": 41,
   "metadata": {},
   "outputs": [
    {
     "name": "stdout",
     "output_type": "stream",
     "text": [
      "[Timestamp('2007-12-31 00:00:00'), Timestamp('2008-01-02 00:00:00'), Timestamp('2008-01-03 00:00:00'), Timestamp('2008-01-04 00:00:00'), Timestamp('2008-01-07 00:00:00'), Timestamp('2008-01-08 00:00:00'), Timestamp('2008-01-09 00:00:00'), Timestamp('2008-01-10 00:00:00'), Timestamp('2008-01-11 00:00:00'), Timestamp('2008-01-14 00:00:00'), Timestamp('2008-01-15 00:00:00'), Timestamp('2008-01-16 00:00:00'), Timestamp('2008-01-17 00:00:00'), Timestamp('2008-01-18 00:00:00'), Timestamp('2008-01-22 00:00:00')]\n",
      "1/1 [==============================] - 0s 209ms/step\n"
     ]
    },
    {
     "name": "stderr",
     "output_type": "stream",
     "text": [
      "C:\\Users\\haris\\AppData\\Local\\Temp\\ipykernel_30044\\2088533562.py:25: UserWarning: Parsing dates in %d/%m/%Y format when dayfirst=False (the default) was specified. Pass `dayfirst=True` or specify a format to silence this warning.\n",
      "  original['date']=pd.to_datetime(original['date'])\n",
      "C:\\Users\\haris\\AppData\\Local\\Temp\\ipykernel_30044\\2088533562.py:25: SettingWithCopyWarning: \n",
      "A value is trying to be set on a copy of a slice from a DataFrame.\n",
      "Try using .loc[row_indexer,col_indexer] = value instead\n",
      "\n",
      "See the caveats in the documentation: https://pandas.pydata.org/pandas-docs/stable/user_guide/indexing.html#returning-a-view-versus-a-copy\n",
      "  original['date']=pd.to_datetime(original['date'])\n"
     ]
    },
    {
     "ename": "TypeError",
     "evalue": "lineplot() takes from 0 to 1 positional arguments but 2 were given",
     "output_type": "error",
     "traceback": [
      "\u001b[1;31m---------------------------------------------------------------------------\u001b[0m",
      "\u001b[1;31mTypeError\u001b[0m                                 Traceback (most recent call last)",
      "Cell \u001b[1;32mIn[41], line 28\u001b[0m\n\u001b[0;32m     25\u001b[0m original[\u001b[39m'\u001b[39m\u001b[39mdate\u001b[39m\u001b[39m'\u001b[39m]\u001b[39m=\u001b[39mpd\u001b[39m.\u001b[39mto_datetime(original[\u001b[39m'\u001b[39m\u001b[39mdate\u001b[39m\u001b[39m'\u001b[39m])\n\u001b[0;32m     26\u001b[0m original \u001b[39m=\u001b[39m original\u001b[39m.\u001b[39mloc[original[\u001b[39m'\u001b[39m\u001b[39mdate\u001b[39m\u001b[39m'\u001b[39m] \u001b[39m>\u001b[39m\u001b[39m=\u001b[39m \u001b[39m'\u001b[39m\u001b[39m2020-5-1\u001b[39m\u001b[39m'\u001b[39m]\n\u001b[1;32m---> 28\u001b[0m sns\u001b[39m.\u001b[39;49mlineplot(original[\u001b[39m'\u001b[39;49m\u001b[39mdate\u001b[39;49m\u001b[39m'\u001b[39;49m], original[\u001b[39m'\u001b[39;49m\u001b[39m GDP\u001b[39;49m\u001b[39m'\u001b[39;49m])\n\u001b[0;32m     29\u001b[0m sns\u001b[39m.\u001b[39mlineplot(df_forecast[\u001b[39m'\u001b[39m\u001b[39mdate\u001b[39m\u001b[39m'\u001b[39m], df_forecast[\u001b[39m'\u001b[39m\u001b[39m GDP\u001b[39m\u001b[39m'\u001b[39m])\n",
      "\u001b[1;31mTypeError\u001b[0m: lineplot() takes from 0 to 1 positional arguments but 2 were given"
     ]
    }
   ],
   "source": [
    "from pandas.tseries.holiday import USFederalHolidayCalendar\n",
    "from pandas.tseries.offsets import CustomBusinessDay\n",
    "us_bd = CustomBusinessDay(calendar=USFederalHolidayCalendar())\n",
    "\n",
    "n_past = 16\n",
    "n_days_for_prediction=15  #let us predict past 15 days\n",
    "\n",
    "predict_period_dates = pd.date_range(list(train_dates)[-n_past], periods=n_days_for_prediction, freq=us_bd).tolist()\n",
    "print(predict_period_dates)\n",
    "\n",
    "prediction = model.predict(trainx[-n_days_for_prediction:]) #shape = (n, 1) where n is the n_days_for_prediction\n",
    "\n",
    "prediction_copies = np.repeat(prediction, df_for_training.shape[1], axis=-1)\n",
    "y_pred_future = scaler.inverse_transform(prediction_copies)[:,0]\n",
    "\n",
    "forecast_dates = []\n",
    "for time_i in predict_period_dates:\n",
    "    forecast_dates.append(time_i.date())\n",
    "    \n",
    "df_forecast = pd.DataFrame({'date':np.array(forecast_dates), ' GDP':y_pred_future})\n",
    "df_forecast['date']=pd.to_datetime(df_forecast['date'])\n",
    "\n",
    "\n",
    "original = data[['date', ' GDP']]\n",
    "original['date']=pd.to_datetime(original['date'])\n",
    "original = original.loc[original['date'] >= '2020-5-1']\n",
    "\n",
    "sns.lineplot(original['date'], original[' GDP'])\n",
    "sns.lineplot(df_forecast['date'], df_forecast[' GDP'])"
   ]
  },
  {
   "cell_type": "code",
   "execution_count": null,
   "metadata": {},
   "outputs": [],
   "source": []
  }
 ],
 "metadata": {
  "kernelspec": {
   "display_name": "Python 3",
   "language": "python",
   "name": "python3"
  },
  "language_info": {
   "codemirror_mode": {
    "name": "ipython",
    "version": 3
   },
   "file_extension": ".py",
   "mimetype": "text/x-python",
   "name": "python",
   "nbconvert_exporter": "python",
   "pygments_lexer": "ipython3",
   "version": "3.9.16"
  },
  "orig_nbformat": 4
 },
 "nbformat": 4,
 "nbformat_minor": 2
}
